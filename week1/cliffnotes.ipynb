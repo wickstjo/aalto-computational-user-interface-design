{
 "cells": [
  {
   "cell_type": "code",
   "execution_count": null,
   "metadata": {},
   "outputs": [],
   "source": []
  },
  {
   "cell_type": "code",
   "execution_count": null,
   "metadata": {},
   "outputs": [],
   "source": []
  },
  {
   "cell_type": "markdown",
   "metadata": {},
   "source": [
    "#### Modeling Sub-Document Attention Using Viewport Time\n",
    "***\n",
    "\n",
    "- **Motivation**:\n",
    "    - While framework for websites have gotten better, companies are obsessed with collecting as much data as possible about their users.\n",
    "    - Instead of sticking to a few proven metrics, they throw the entire kitchen sink at it leading to very resource intense website.\n",
    "    \n",
    "    \n",
    "- **Contribution Type**:\n",
    "    - Data set or analysis.\n",
    "    - Theory and modelling.\n",
    "    \n",
    "    \n",
    "- **Scope**:\n",
    "    - Using the viewport time metric, which is relatively simplistic.\n",
    "        - The time a page HTML component is visible on the user display.\n",
    "        - Assumes a linear and vertical component arrangement.\n",
    "    - To achieve similar results as expensive lab-based eyetracking studies.\n",
    "\n",
    "\n",
    "- **Approach**:\n",
    "    - Reading estimate models:\n",
    "        - UAM: Uniform Attention Model (baseline)\n",
    "            - Naive model that assumed attention is divided uniformly across each component.\n",
    "            - A larger component means a larger amount of time spent viewing it.\n",
    "        - UVAM: Uniform Viewport Attention Model\n",
    "            - All pixels on the screen have an equal probability to be viewed.\n",
    "            - Dwell time is only assigned to a component when it is within the users viewport.\n",
    "            - User attention is distributed uniformly across all visible components.\n",
    "        - GVAM: Gaussian Viewport Attention Model\n",
    "            - Builds on a eye-tracking study, because assumptions of uniformity seemd too simplistic.\n",
    "            - GVAM is computer similarly to UVAM, but:\n",
    "            - Estimated viewport attention function uses the mean and standard deviation from the study.\n",
    "\n",
    "\n",
    "- **Evidence**:\n",
    "    - Validates model results with empirical reading measurements from a cross-language study.\n",
    "        - Study was performed by reading text on paper.\n",
    "        - Reading comprehension studies have found that there is minimal difference between paper and screen.\n",
    "    - Both the UVAM and GVAM models perform significantly better than the baseline.\n",
    "    - The more sophisticated GVAM model outperforms the UVAM model.\n",
    "    - The one clear outlier language was spanish.\n",
    "        - Underlying reason was never identified.\n",
    "    - Note that there is no proof that these models are necessarily better than some other method\n",
    "    - Just that they are able to derive similar conclusions as higher tech solutions.\n",
    "\n",
    "\n",
    "- **Generalizability**:\n",
    "    - The results were far from insignificant, but I feel like they might have pruned too many users for the study.\n",
    "        - So much so that the remaining people all fit into one demographic.\n",
    "    - I would personally be more interested in ephemral users, or users that only read the header and some snippets.\n",
    "        - Bigger impact on human discourse.\n",
    "\n",
    "\n",
    "- **Alternative Applications**:\n",
    "    - Maybe this could improve human discourse.\n",
    "    - Not incentivice fake news and ragebait.\n",
    "    - Could component dwell time be used to verify whether the important parts of news articles are consumed or not?\n",
    "\n",
    "\n",
    "- **Learning Outcomes**:\n",
    "    - I had hoped for a less burdensome method of gathering data.\n",
    "        - Chartbeat tool was used.\n",
    "    - Probably very valuable data for the company, but an annoyance for the customer.\n",
    "    - Interesting that you don't need to go high tech to get similar/better results.\n",
    "    - Would be interesting to compare how significant these types of improvements are compared to categories and article titles."
   ]
  },
  {
   "cell_type": "code",
   "execution_count": null,
   "metadata": {},
   "outputs": [],
   "source": []
  },
  {
   "cell_type": "code",
   "execution_count": null,
   "metadata": {},
   "outputs": [],
   "source": []
  },
  {
   "cell_type": "code",
   "execution_count": null,
   "metadata": {},
   "outputs": [],
   "source": []
  },
  {
   "cell_type": "code",
   "execution_count": null,
   "metadata": {},
   "outputs": [],
   "source": []
  },
  {
   "cell_type": "code",
   "execution_count": null,
   "metadata": {},
   "outputs": [],
   "source": []
  },
  {
   "cell_type": "code",
   "execution_count": null,
   "metadata": {},
   "outputs": [],
   "source": []
  },
  {
   "cell_type": "code",
   "execution_count": null,
   "metadata": {},
   "outputs": [],
   "source": []
  },
  {
   "cell_type": "markdown",
   "metadata": {},
   "source": [
    "#### Designing Engaging Games Using Bayesian Optimization\n",
    "***\n",
    "\n",
    "- **Motivation**:\n",
    "    - Interest in baysian optimization.\n",
    "    - Games studios obsession with making addicting games rather than good games.\n",
    "    - Is there truly a correlation?\n",
    "    \n",
    "    \n",
    "- **Contribution Type**:\n",
    "    \n",
    "    \n",
    "- **Scope**:\n",
    "\n",
    "\n",
    "- **Approach**:\n",
    "    - Manipulating difficulty of games to modulate engagement. \n",
    "\n",
    "\n",
    "- **Evidence**:\n",
    "\n",
    "\n",
    "- **Generalizability**:\n",
    "\n",
    "\n",
    "- **Alternative Applications**:\n",
    "\n",
    "\n",
    "- **Learning Outcomes**:\n"
   ]
  },
  {
   "cell_type": "code",
   "execution_count": null,
   "metadata": {},
   "outputs": [],
   "source": []
  },
  {
   "cell_type": "code",
   "execution_count": null,
   "metadata": {},
   "outputs": [],
   "source": []
  },
  {
   "cell_type": "code",
   "execution_count": null,
   "metadata": {},
   "outputs": [],
   "source": []
  },
  {
   "cell_type": "code",
   "execution_count": null,
   "metadata": {},
   "outputs": [],
   "source": []
  },
  {
   "cell_type": "code",
   "execution_count": null,
   "metadata": {},
   "outputs": [],
   "source": []
  },
  {
   "cell_type": "code",
   "execution_count": null,
   "metadata": {},
   "outputs": [],
   "source": []
  },
  {
   "cell_type": "code",
   "execution_count": null,
   "metadata": {},
   "outputs": [],
   "source": []
  },
  {
   "cell_type": "code",
   "execution_count": null,
   "metadata": {},
   "outputs": [],
   "source": []
  },
  {
   "cell_type": "code",
   "execution_count": null,
   "metadata": {},
   "outputs": [],
   "source": []
  },
  {
   "cell_type": "code",
   "execution_count": null,
   "metadata": {},
   "outputs": [],
   "source": []
  },
  {
   "cell_type": "code",
   "execution_count": null,
   "metadata": {},
   "outputs": [],
   "source": []
  },
  {
   "cell_type": "code",
   "execution_count": null,
   "metadata": {},
   "outputs": [],
   "source": []
  },
  {
   "cell_type": "code",
   "execution_count": null,
   "metadata": {},
   "outputs": [],
   "source": []
  },
  {
   "cell_type": "code",
   "execution_count": null,
   "metadata": {},
   "outputs": [],
   "source": []
  },
  {
   "cell_type": "code",
   "execution_count": null,
   "metadata": {},
   "outputs": [],
   "source": []
  },
  {
   "cell_type": "code",
   "execution_count": null,
   "metadata": {},
   "outputs": [],
   "source": []
  },
  {
   "cell_type": "code",
   "execution_count": null,
   "metadata": {},
   "outputs": [],
   "source": []
  },
  {
   "cell_type": "code",
   "execution_count": null,
   "metadata": {},
   "outputs": [],
   "source": []
  },
  {
   "cell_type": "code",
   "execution_count": null,
   "metadata": {},
   "outputs": [],
   "source": []
  },
  {
   "cell_type": "code",
   "execution_count": null,
   "metadata": {},
   "outputs": [],
   "source": []
  },
  {
   "cell_type": "code",
   "execution_count": null,
   "metadata": {},
   "outputs": [],
   "source": []
  }
 ],
 "metadata": {
  "kernelspec": {
   "display_name": "Python 3",
   "language": "python",
   "name": "python3"
  },
  "language_info": {
   "codemirror_mode": {
    "name": "ipython",
    "version": 3
   },
   "file_extension": ".py",
   "mimetype": "text/x-python",
   "name": "python",
   "nbconvert_exporter": "python",
   "pygments_lexer": "ipython3",
   "version": "3.8.10"
  }
 },
 "nbformat": 4,
 "nbformat_minor": 4
}
