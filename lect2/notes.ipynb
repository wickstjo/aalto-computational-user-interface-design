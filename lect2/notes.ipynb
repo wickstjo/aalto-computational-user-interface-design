{
 "cells": [
  {
   "cell_type": "code",
   "execution_count": 1,
   "metadata": {},
   "outputs": [],
   "source": [
    "import math\n",
    "import random\n",
    "from IPython.display import clear_output"
   ]
  },
  {
   "cell_type": "code",
   "execution_count": null,
   "metadata": {},
   "outputs": [],
   "source": []
  },
  {
   "cell_type": "code",
   "execution_count": null,
   "metadata": {},
   "outputs": [],
   "source": []
  },
  {
   "cell_type": "markdown",
   "metadata": {},
   "source": [
    "#### WHAT ARE GOOD METRICS FOR EVALUATING A MENU?\n",
    "***\n",
    "\n",
    "- How long it takes to find a menu item.\n",
    "- Order of items.\n",
    "- Number of items per menu.\n",
    "- Groups.\n",
    "\n",
    "\n",
    "- Single vs. Multi-objective problems.\n",
    "    - Do you want to solve big problems all at once?\n",
    "    - Or have a recursive approach\n",
    "        - One big problem = 10 medium problem = 100 small problems.\n",
    "        \n",
    "\n",
    "- Whitebox model without the knowledge or experience.\n",
    "\n",
    "\n",
    "- Is it better to use a multiplier for different objective functions and then sum them together.\n",
    "- Or a recursive algo."
   ]
  },
  {
   "cell_type": "code",
   "execution_count": null,
   "metadata": {},
   "outputs": [],
   "source": []
  },
  {
   "cell_type": "code",
   "execution_count": null,
   "metadata": {},
   "outputs": [],
   "source": []
  },
  {
   "cell_type": "markdown",
   "metadata": {},
   "source": [
    "#### PARAMS"
   ]
  },
  {
   "cell_type": "code",
   "execution_count": 2,
   "metadata": {},
   "outputs": [],
   "source": [
    "frequencies = {\n",
    "    'help': 1,\n",
    "    'save': 1,\n",
    "    'close': 1,\n",
    "    'print': 1,\n",
    "    'open': 1,\n",
    "    'about': 1,\n",
    "    '-': 0\n",
    "}"
   ]
  },
  {
   "cell_type": "code",
   "execution_count": 3,
   "metadata": {},
   "outputs": [],
   "source": [
    "associations = {\n",
    "    'open':  { 'open': 1.0, 'save': 0.5, 'close': 0.3 }, \n",
    "    'save':  { 'save': 1.0, 'close': 0.2, 'open': 0.5}, \n",
    "    'close': { 'close': 1.0, 'open': 0.2, 'save':0.2}, \n",
    "    'help':  { 'help': 1.0, 'about': 0.2 }, \n",
    "    'about': { 'about':1.0, 'help': 0.1 },\n",
    "    'print': { 'print': 1.0 }\n",
    "}"
   ]
  },
  {
   "cell_type": "code",
   "execution_count": 4,
   "metadata": {},
   "outputs": [],
   "source": [
    "menu = ['help', '-', 'open', 'save', '-', 'print', 'close', '-', 'about']"
   ]
  },
  {
   "cell_type": "markdown",
   "metadata": {},
   "source": [
    "#### FITTS LAW OBJECTIVE FUNC"
   ]
  },
  {
   "cell_type": "code",
   "execution_count": 5,
   "metadata": {},
   "outputs": [],
   "source": [
    "def fitts_law(menu, frequencies):\n",
    "    \n",
    "    # FITTS LAW PARAMS\n",
    "    a = 0.2 \n",
    "    b = 0.3\n",
    "    \n",
    "    # COMPUTE THE COST OF EACH MENU ITEM\n",
    "    item_costs = [a + b * math.log(i + 1) for i in range (0, len(menu))]\n",
    "    \n",
    "    # PLACEHOLDER\n",
    "    total_cost = 0.0\n",
    "    \n",
    "    # COMPUTE THE CUMULATIVE MENU COST\n",
    "    for i in range (0, len(menu)):\n",
    "        total_cost += item_costs[i] * frequencies[menu[i]]\n",
    "        \n",
    "    return total_cost"
   ]
  },
  {
   "cell_type": "code",
   "execution_count": 6,
   "metadata": {},
   "outputs": [
    {
     "data": {
      "text/plain": [
       "3.7259402536222765"
      ]
     },
     "execution_count": 6,
     "metadata": {},
     "output_type": "execute_result"
    }
   ],
   "source": [
    "fitts_law(menu, frequencies)"
   ]
  },
  {
   "cell_type": "markdown",
   "metadata": {},
   "source": [
    "#### ITEM ASSOCIATION OBJECTIVE FUNC"
   ]
  },
  {
   "cell_type": "code",
   "execution_count": 31,
   "metadata": {},
   "outputs": [],
   "source": [
    "def item_assoc(menu, associations):\n",
    "    \n",
    "    # TOTAL COST\n",
    "    total_cost = 0.0\n",
    "    \n",
    "    # LOOP THROUGH MENU ITEMS, SKIP LINES\n",
    "    for current in range (0, len(menu)):\n",
    "        if menu[current] == \"-\": continue\n",
    "\n",
    "        # LOOP THROUGH SUCCESSORS, SKIP LINES\n",
    "        for successor in range (current+1, len(menu)):\n",
    "            if menu[successor] == \"-\": continue\n",
    "            \n",
    "            # SHORTHANDS\n",
    "            current_item = menu[current]\n",
    "            successor_item = menu[successor]\n",
    "            \n",
    "            # CONTAINER\n",
    "            item_cost = 0.0\n",
    "            \n",
    "            # FETCH ITEM ASSOC SCORE\n",
    "            try: item_cost = associations[current_item][successor_item]\n",
    "            except:\n",
    "                try: item_cost = associations[successor_item][current_item]\n",
    "                except: pass\n",
    "                \n",
    "            # NORMALIZE THE COST\n",
    "            normalizer = abs(current - successor)\n",
    "            item_cost *= normalizer\n",
    "                \n",
    "            # ITEMS ARE UNRELATED, ADD LARGE PENALTY\n",
    "            if item_cost == 0.0 and (normalizer == 1):\n",
    "                total_cost += 1.0\n",
    "                \n",
    "            # OTHERWISE, ADD ITEM COST\n",
    "            else: \n",
    "                total_cost += item_cost\n",
    "                \n",
    "    return total_cost"
   ]
  },
  {
   "cell_type": "code",
   "execution_count": 32,
   "metadata": {},
   "outputs": [
    {
     "data": {
      "text/plain": [
       "4.9"
      ]
     },
     "execution_count": 32,
     "metadata": {},
     "output_type": "execute_result"
    }
   ],
   "source": [
    "item_assoc(menu, associations)"
   ]
  },
  {
   "cell_type": "markdown",
   "metadata": {},
   "source": [
    "#### MENU ITEM SEARCH TIME"
   ]
  },
  {
   "cell_type": "code",
   "execution_count": 9,
   "metadata": {},
   "outputs": [],
   "source": [
    "def search_time(target, menu, associations):\n",
    "    \n",
    "    # THE ACCUMULATED COST\n",
    "    total_cost = 0.0\n",
    "    \n",
    "    # HELPERS\n",
    "    group_boundary = False\n",
    "    target_found = False\n",
    "    anchor = None\n",
    "    \n",
    "    # MOVEMENT COSTS\n",
    "    item_cost = 0.3\n",
    "    group_cost = 0.4\n",
    "    \n",
    "    # LOOP THROUGH MENU ITEMS\n",
    "    for current in range (0, len(menu)):\n",
    "        \n",
    "        # IF A SPLITTER IS FOUND\n",
    "        if menu[current] == \"-\": \n",
    "            group_boundary = True\n",
    "            anchor = None\n",
    "            continue\n",
    "            \n",
    "        # IF THE FIRST ELEMENT IS FOUND\n",
    "        if current == 0:\n",
    "            group_boundary = True\n",
    "            \n",
    "        # POTENTIAL ANCHOR FOUND\n",
    "        if group_boundary and (menu[current] != \"-\"):\n",
    "            \n",
    "            # ADD ITEM COST\n",
    "            total_cost += item_cost\n",
    "            \n",
    "            # THE CURRENT ITEM & TARGET ARE ASSOC, SET ANCHOR\n",
    "            if menu[current] in associations.keys() and (menu[target] in associations[menu[current]]):\n",
    "                anchor = menu[current]\n",
    "            \n",
    "            # OTHERWISE, RESET ANCHOR AND ADD GROUP COST\n",
    "            elif menu[current] in associations.keys() and (menu[target] not in associations[menu[current]]):\n",
    "                anchor = None\n",
    "                total_cost += group_cost\n",
    "            \n",
    "            # RESET GRP BOUNDARY\n",
    "            group_boundary = False\n",
    "        \n",
    "        # IF THERE IS NO GRP BOUNDARY OR ANCHOR, ADD ITEM COST\n",
    "        elif group_boundary == False: \n",
    "            if anchor != None:\n",
    "                total_cost += item_cost           \n",
    "                \n",
    "        # IF THE TARGET IS FOUND, BREAK LOOP\n",
    "        if (anchor != None) and (current == target):\n",
    "            target_found = True\n",
    "            break\n",
    "        \n",
    "        # POTENTIAL ANCHOR BUT ISNT THE TARGET, ADD ITEM COST & RESET ANCHOR\n",
    "        elif (anchor != None) and (current != target) and (anchor not in associations[menu[current]].keys()):\n",
    "            anchor = None\n",
    "            total_cost += item_cost\n",
    "        \n",
    "        # OTHERWISE, JUMP TO NEXT LOOP ROUND\n",
    "        elif (anchor == None):\n",
    "            continue\n",
    "    \n",
    "    # IF THE TARGET WAS NEVER FOUND, ADD FINAL PENALTY COST\n",
    "    if not target_found:\n",
    "        total_cost += item_cost * len(menu)\n",
    "    \n",
    "    return round(total_cost, 3)"
   ]
  },
  {
   "cell_type": "code",
   "execution_count": 25,
   "metadata": {},
   "outputs": [],
   "source": [
    "def search_items(menu, associations):\n",
    "    \n",
    "    # HELPERS\n",
    "    container = {}\n",
    "    total_time = 0.0\n",
    "    \n",
    "    # LOOP THROUGH MENU\n",
    "    for current in range (0, len(menu)):\n",
    "        \n",
    "        # ESTIMATE TIME TO FIND ITEM\n",
    "        duration = search_time(current, menu, associations)\n",
    "        \n",
    "        # PUSH TO CONTAINERS\n",
    "        container[menu[current]] = duration\n",
    "        total_time += duration\n",
    "\n",
    "    # COMPUTE THE AVG TIME\n",
    "    avg = total_time / len(menu)\n",
    "        \n",
    "    return container, avg"
   ]
  },
  {
   "cell_type": "code",
   "execution_count": 26,
   "metadata": {},
   "outputs": [],
   "source": [
    "values, average = search_items(menu, associations)"
   ]
  },
  {
   "cell_type": "code",
   "execution_count": 27,
   "metadata": {},
   "outputs": [
    {
     "data": {
      "text/plain": [
       "3.1333333333333333"
      ]
     },
     "execution_count": 27,
     "metadata": {},
     "output_type": "execute_result"
    }
   ],
   "source": [
    "average"
   ]
  },
  {
   "cell_type": "markdown",
   "metadata": {},
   "source": [
    "#### MENU OPTIMIZER"
   ]
  },
  {
   "cell_type": "code",
   "execution_count": 11,
   "metadata": {},
   "outputs": [],
   "source": [
    "def optimizer(iterations, base_menu, frequencies, associations):\n",
    "    \n",
    "    # FETCH OBJECTIVE FUCNS\n",
    "    global item_assoc, fitts_law\n",
    "    \n",
    "    # RESULT TRACKERS\n",
    "    best_value = float('inf')\n",
    "    best_design = []\n",
    "    \n",
    "    # LOOP THROUGH ITERATIONS\n",
    "    for index in range (0, iterations):\n",
    "        \n",
    "        # PICK A RANDOMIZED MENU ORDER\n",
    "        menu_candidate = random.sample(base_menu, len(base_menu))\n",
    "        \n",
    "        # RUN OBJ FUNCS TO COMPUTE OBJ VALUE\n",
    "        objective_value = 1.0 * item_assoc(menu_candidate, associations)\n",
    "        objective_value = 0.2 * fitts_law(menu_candidate, frequencies)\n",
    "\n",
    "        # IF A BETTER RESULT IS FOUND, OVERWRITE OLD RESULT\n",
    "        if objective_value < best_value: \n",
    "            best_value = objective_value\n",
    "            best_design = menu_candidate\n",
    "        \n",
    "        # PRINT PROGRESS\n",
    "        if index % 100 == 0:\n",
    "            clear_output(wait=True)\n",
    "            print(str(index) + '/' + str(iterations))\n",
    "        elif index +1 == iterations:\n",
    "            clear_output(wait=True)\n",
    "            print(str(iterations) + '/' + str(iterations))\n",
    "    \n",
    "    return best_value, best_design"
   ]
  },
  {
   "cell_type": "code",
   "execution_count": 12,
   "metadata": {
    "scrolled": true
   },
   "outputs": [
    {
     "name": "stdout",
     "output_type": "stream",
     "text": [
      "10000/10000\n"
     ]
    }
   ],
   "source": [
    "value, design = optimizer(10000, menu, frequencies, associations)"
   ]
  },
  {
   "cell_type": "code",
   "execution_count": 13,
   "metadata": {
    "scrolled": true
   },
   "outputs": [
    {
     "data": {
      "text/plain": [
       "0.6347550727206062"
      ]
     },
     "execution_count": 13,
     "metadata": {},
     "output_type": "execute_result"
    }
   ],
   "source": [
    "value"
   ]
  },
  {
   "cell_type": "code",
   "execution_count": 14,
   "metadata": {},
   "outputs": [
    {
     "data": {
      "text/plain": [
       "['open', 'close', 'print', 'save', 'help', 'about', '-', '-', '-']"
      ]
     },
     "execution_count": 14,
     "metadata": {},
     "output_type": "execute_result"
    }
   ],
   "source": [
    "design"
   ]
  },
  {
   "cell_type": "code",
   "execution_count": null,
   "metadata": {},
   "outputs": [],
   "source": []
  },
  {
   "cell_type": "code",
   "execution_count": null,
   "metadata": {},
   "outputs": [],
   "source": []
  },
  {
   "cell_type": "code",
   "execution_count": null,
   "metadata": {},
   "outputs": [],
   "source": []
  },
  {
   "cell_type": "code",
   "execution_count": null,
   "metadata": {},
   "outputs": [],
   "source": []
  },
  {
   "cell_type": "code",
   "execution_count": null,
   "metadata": {},
   "outputs": [],
   "source": []
  },
  {
   "cell_type": "code",
   "execution_count": null,
   "metadata": {},
   "outputs": [],
   "source": []
  }
 ],
 "metadata": {
  "kernelspec": {
   "display_name": "Python 3",
   "language": "python",
   "name": "python3"
  },
  "language_info": {
   "codemirror_mode": {
    "name": "ipython",
    "version": 3
   },
   "file_extension": ".py",
   "mimetype": "text/x-python",
   "name": "python",
   "nbconvert_exporter": "python",
   "pygments_lexer": "ipython3",
   "version": "3.8.10"
  }
 },
 "nbformat": 4,
 "nbformat_minor": 4
}
