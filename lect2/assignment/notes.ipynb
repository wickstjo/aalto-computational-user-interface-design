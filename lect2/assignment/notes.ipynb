{
 "cells": [
  {
   "cell_type": "code",
   "execution_count": null,
   "metadata": {},
   "outputs": [],
   "source": []
  },
  {
   "cell_type": "code",
   "execution_count": null,
   "metadata": {},
   "outputs": [],
   "source": []
  },
  {
   "cell_type": "markdown",
   "metadata": {},
   "source": [
    "#### Part 1: Compare obj_assoc\tand\tobj_fitts\n",
    "***\n",
    "\n",
    "- How do they differ?\n",
    "- Why?\n",
    "- Be mindful of the weight for the multi-objective case."
   ]
  },
  {
   "cell_type": "code",
   "execution_count": 2,
   "metadata": {},
   "outputs": [],
   "source": [
    "def obj_fitts(menu, frequencies):\n",
    "    a = 0.2 \n",
    "    b = 0.3 # This coefficient controls the slope of Fitts' law\n",
    "    costs = [a + b*math.log(i+1) for i in range (0, len(menu))]\n",
    "    st_sum = 0.0\n",
    "    # Here we compute sum weighted by click frequencies\n",
    "    for i in range (0, len(menu)):\n",
    "        st_sum += costs[i] * frequencies[menu[i]]\n",
    "    return st_sum"
   ]
  },
  {
   "cell_type": "code",
   "execution_count": 3,
   "metadata": {},
   "outputs": [],
   "source": [
    "associations = {\n",
    "    \"open\":  {\"open\": 1.0, \"save\": 0.5, \"close\": 0.3}, \n",
    "    \"save\":  {\"save\": 1.0, \"close\": 0.2, \"open\": 0.5}, \n",
    "    \"close\": {\"close\": 1.0, \"open\": 0.2, \"save\":0.2}, \n",
    "    \"help\":  {\"help\": 1.0, \"about\": 0.2}, \n",
    "    \"about\": {\"about\":1.0, \"help\": 0.1},\n",
    "    \"print\": {\"print\": 1.0}\n",
    "}"
   ]
  },
  {
   "cell_type": "code",
   "execution_count": 1,
   "metadata": {},
   "outputs": [],
   "source": [
    "def obj_assoc(menu, associations):\n",
    "    a_sum = 0.0\n",
    "    for i in range (0, len(menu)):\n",
    "        if menu[i] == \"-\": continue\n",
    "\n",
    "        for j in range (i+1, len(menu)):\n",
    "            if menu[j] == \"-\": continue\n",
    "            a = 0.0\n",
    "            try: a = associations[menu[i]][menu[j]] * abs(i - j)\n",
    "            except:\n",
    "                try: a = associations[menu[j]][menu[i]] * abs(i - j)\n",
    "                except: pass\n",
    "            if a == 0.0 and (abs(i-j)==1):  # unrelated, should not be next to each other\n",
    "                a_sum += 1.0 # penalty\n",
    "            else: \n",
    "                a_sum += a\n",
    "    return a_sum"
   ]
  },
  {
   "cell_type": "code",
   "execution_count": null,
   "metadata": {},
   "outputs": [],
   "source": []
  },
  {
   "cell_type": "code",
   "execution_count": null,
   "metadata": {},
   "outputs": [],
   "source": []
  },
  {
   "cell_type": "markdown",
   "metadata": {},
   "source": [
    "#### Part 2: Creating a new objective function for users' expectations\n",
    "***\n",
    "\n",
    "- Let's assume that users have learned to expect certain items to in certain locations.\n",
    "\n",
    "\n",
    "- **Your task**: Develop a new objective function (called obj_expectation) that ensures that items are in expected locations.\n",
    "- The function is given as input the expected location of each item (or those that are associated with expectations) and the strength of that expectation. \n",
    "\n",
    "\n",
    "- Show the results in a single-objective setting, optimizing for that objective only.\n",
    "- Then show results for the multi-objective setting where you have e.g., obj_fitts or obj_assoc as the other objective.\n",
    "\n",
    "\n",
    "- Tip: The challenge is to formulate this as a function that assigns a real value to a candidate design.\n",
    "- If you implement this as a constraint, it will be too harsh and prevent moving items from expected locations."
   ]
  },
  {
   "cell_type": "code",
   "execution_count": null,
   "metadata": {},
   "outputs": [],
   "source": []
  },
  {
   "cell_type": "code",
   "execution_count": null,
   "metadata": {},
   "outputs": [],
   "source": []
  },
  {
   "cell_type": "markdown",
   "metadata": {},
   "source": [
    "#### Part 3: Modifying obj_assoc: Group anchors\n",
    "***\n",
    "\n",
    "- If you look at the results that obj_assoc produces, it can happen that the most descriptive items of a group sits in the middle of the group.\n",
    "- A user might thus have to read some undescriptive items before seeing this \"anchor\".\n",
    "\n",
    "\n",
    "- **Your task**: Extend obj_assoc to place the most descriptive item of a group as its anchor.\n",
    "- An anchor is an item that sits at the top of the group.\n",
    "- It is supposedly the most descriptive item and should therefore be first.\n",
    "- Define a function that captures this intuition and show that it can work such that it does not distract the other objectives."
   ]
  },
  {
   "cell_type": "code",
   "execution_count": null,
   "metadata": {},
   "outputs": [],
   "source": []
  },
  {
   "cell_type": "code",
   "execution_count": null,
   "metadata": {},
   "outputs": [],
   "source": []
  },
  {
   "cell_type": "markdown",
   "metadata": {},
   "source": [
    "#### Part 4: Sensitivity analysis\n",
    "***\n",
    "\n",
    "- Sensitivity analysis refers to the study of how sensitive an optimizer is to changes in its inputs.\n",
    "- **Your task** here is to systematically perturb a task instance.\n",
    "- In practice: you should systematically change frequencies, associations, and/or menus, and report how sensitive the results are to these perturbations.\n",
    "- You can pick which objective function you use."
   ]
  },
  {
   "cell_type": "code",
   "execution_count": null,
   "metadata": {},
   "outputs": [],
   "source": []
  },
  {
   "cell_type": "code",
   "execution_count": null,
   "metadata": {},
   "outputs": [],
   "source": []
  },
  {
   "cell_type": "code",
   "execution_count": null,
   "metadata": {},
   "outputs": [],
   "source": []
  },
  {
   "cell_type": "code",
   "execution_count": null,
   "metadata": {},
   "outputs": [],
   "source": []
  },
  {
   "cell_type": "code",
   "execution_count": null,
   "metadata": {},
   "outputs": [],
   "source": []
  },
  {
   "cell_type": "code",
   "execution_count": null,
   "metadata": {},
   "outputs": [],
   "source": []
  },
  {
   "cell_type": "code",
   "execution_count": null,
   "metadata": {},
   "outputs": [],
   "source": []
  },
  {
   "cell_type": "code",
   "execution_count": null,
   "metadata": {},
   "outputs": [],
   "source": []
  },
  {
   "cell_type": "code",
   "execution_count": null,
   "metadata": {},
   "outputs": [],
   "source": []
  },
  {
   "cell_type": "code",
   "execution_count": null,
   "metadata": {},
   "outputs": [],
   "source": []
  },
  {
   "cell_type": "code",
   "execution_count": null,
   "metadata": {},
   "outputs": [],
   "source": []
  },
  {
   "cell_type": "code",
   "execution_count": null,
   "metadata": {},
   "outputs": [],
   "source": []
  }
 ],
 "metadata": {
  "kernelspec": {
   "display_name": "Python 3",
   "language": "python",
   "name": "python3"
  },
  "language_info": {
   "codemirror_mode": {
    "name": "ipython",
    "version": 3
   },
   "file_extension": ".py",
   "mimetype": "text/x-python",
   "name": "python",
   "nbconvert_exporter": "python",
   "pygments_lexer": "ipython3",
   "version": "3.8.10"
  }
 },
 "nbformat": 4,
 "nbformat_minor": 4
}
