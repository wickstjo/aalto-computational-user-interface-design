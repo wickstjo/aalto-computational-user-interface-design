{
 "cells": [
  {
   "cell_type": "markdown",
   "metadata": {},
   "source": [
    "\n",
    "$$\\newcommand{\\vec}[1]{{\\bf #1} } \n",
    "\\newcommand{\\real}{\\mathbb{R} }\n",
    "\\newcommand{\\expect}[1]{\\mathbb{E}[#1] }\n",
    "\\DeclareMathOperator*{\\argmin}{arg\\,min}\n",
    "\\DeclareMathOperator*{\\argmax}{arg\\,max}\n",
    "\\newcommand{\\E}{\\mathbb{E}}$$\n",
    "\n",
    "## ELEC-E7851: Computational User Interface Design (Fall 2021) \n",
    "\n",
    "# Lecture 2: Introduction to Computational Design\n",
    "\n",
    "## Antti Oulasvirta, Aalto University\n",
    "\n",
    "**Overview**: This notebook introduces basic theory and concepts of computational design. A menu system is used as a running example throught. In practice, we will generate a menu system with combinatorial optimization using \n",
    "* a hand-crafted (heuristic) objective function\n",
    "* a learned (data-driven) objective function\n",
    "* a theory-based model as the objective function.\n",
    "We will return to many of these concepts and methods throughout the course.\n",
    "\n",
    "_Acknowledgements_: Tayyaba Taimur (word2vec application; utilities.py)\n",
    "\n",
    "---\n",
    "### Elements of a computational design system\n",
    "<img src=\"images/overview2.pdf\" width=\"96%\" title=\"Overview\" />"
   ]
  },
  {
   "cell_type": "markdown",
   "metadata": {},
   "source": [
    "### Introducing our Case: A menu system\n",
    "\n",
    "Throughout the notebook, we will be using interactive menu system as our example.\n",
    "\n",
    "Try it out!\n",
    "* Launch the menu\n",
    "* Click on its items, simulating what a user might do. Press \"Stop\" when done\n",
    "* Click data are stored in data.csv\n",
    "* The structure of the menu is expressed as a list where '-' means a group separator \n",
    "* If the menu variable is changed, the changes will be visible when the menu is opened again."
   ]
  },
  {
   "cell_type": "code",
   "execution_count": 1,
   "metadata": {},
   "outputs": [
    {
     "data": {
      "application/vnd.jupyter.widget-view+json": {
       "model_id": "3eb627f8abf14882aa1325af6b0dd78c",
       "version_major": 2,
       "version_minor": 0
      },
      "text/plain": [
       "VBox(children=(Button(button_style='info', description='help', style=ButtonStyle()), Label(value=' '), Button(…"
      ]
     },
     "metadata": {},
     "output_type": "display_data"
    },
    {
     "data": {
      "application/vnd.jupyter.widget-view+json": {
       "model_id": "980e3c68bd40411e997d05f80a50fa91",
       "version_major": 2,
       "version_minor": 0
      },
      "text/plain": [
       "Output()"
      ]
     },
     "metadata": {},
     "output_type": "display_data"
    }
   ],
   "source": [
    "import utilities\n",
    "from collections import Counter\n",
    "\n",
    "menu = [\"help\", \"-\", \"open\",\"save\",\"-\",\"print\",\"close\",\"-\",\"about\"]\n",
    "\n",
    "# Shows the menu\n",
    "\n",
    "utilities.showmenu(menu)"
   ]
  },
  {
   "cell_type": "code",
   "execution_count": 2,
   "metadata": {
    "scrolled": false
   },
   "outputs": [
    {
     "data": {
      "image/png": "[encoded data removed]",
      "text/plain": [
       "<Figure size 640x480 with 1 Axes>"
      ]
     },
     "metadata": {},
     "output_type": "display_data"
    }
   ],
   "source": [
    "# Plots click data\n",
    "\n",
    "frequencies = utilities.parsedata()\n",
    "utilities.plothistogram(menu)\n"
   ]
  },
  {
   "cell_type": "markdown",
   "metadata": {},
   "source": [
    "---\n",
    "\n",
    "# 1. Generating Designs with Combinatorial Optimization\n",
    "\n",
    "In **generative design**, the problem is to generate an interface that optimizers for stated objectives while obeying given constraints. \n",
    "\n",
    "Naive approaches to this problem include:\n",
    "* Template-based: Formulate a distance metric to pick a template that best matches with the given elements. \n",
    "* Rule-based: Apply a hand-coded system of rules, such as 'always place a heading element to the top'.\n",
    "\n",
    "<div class=\"alert alert-block alert-success\">\n",
    "<b>Discussion:</b> These approaches scale poorly. Why?\n",
    "</div>\n",
    "\n",
    "## Combinatorial optimization\n",
    "**Combinatorial optimization** refers to the combination of discrete design decisions to obtain an optimal solution defined by a stated objective function. In particular, the task is to find the design that yields the highest value of a given objective (goodness) function $f$:\n",
    "$$\\mbox{Find } \\mathbf{x} =\n",
    "\t\\begin{pmatrix}\n",
    "\tx_1 \\\\\n",
    "\tx_2 \\\\\n",
    "\t\\vdots \\\\\n",
    "\tx_n\n",
    "\t\\end{pmatrix} \\in \\mathbf{X}\n",
    "\\mbox{ which maximizes } f(\\mathbf{x})$$\n",
    "where \n",
    "* $\\mathbf{x}$ is an *n*-dimensional **design vector**,  each dimension describing a **design variable**, and\n",
    "* $\\mathbf{X}$ is **the set of feasible designs** (all vectors that fulfill constraints).\n",
    "\n",
    "The objective function assigns each vector a value describing its goodness (or badness). When we optimize, we are looking for the vectors that obtain the highest value.\n",
    "\n",
    "Combinatorial optimization methods can be divided into two main classes: (i) **Black-box methods** do not necessitate assumptions about  the objective function, but rather consider it as a black-box -- like an oracle -- that tells them the objective value of a given candidate it has generated.  (ii) **Exact methods** such as integer programming offer mathematical guarantees for solutions but insist on analysis of the objective function for revealing simplifications and links to known tasks in the optimization literature. Integer programming is covered in the other part of the day. There is exciting research going on that combines deep learning with black-box optimization.\n",
    "\n",
    "<img src=\"images/optimization.png\" width=\"75%\">"
   ]
  },
  {
   "cell_type": "markdown",
   "metadata": {},
   "source": [
    "### First design task\n",
    "\n",
    "In the following, we implement a simple combinatorial optimizer that tries to generate a menu that _minimizes expected time needed for selecting commands_, given the frequency of clicks (data.csv).\n",
    "* Task: Order the items such that average movement time of user is minimized \n",
    "* Task instance: The menu defined above and the click distribution\n",
    "* Solver: Random search solver\n",
    "\n",
    "> In a nutshell: In each iteration, we generate a menu randomly and evaluate it using Fitts' law that estimates average selection time. We continue like this while keeping in memory the best menu encountered so far. After exhausting computationl budget, print the best seen menu.\n",
    "\n",
    "*Source*: Oulasvirta et al. __[Combinatorial optimization of graphical user interfaces. IEEE Proceedings (2020)](https://ieeexplore.ieee.org/stamp/stamp.jsp?arnumber=9000519)__. "
   ]
  },
  {
   "cell_type": "code",
   "execution_count": 3,
   "metadata": {},
   "outputs": [
    {
     "name": "stdout",
     "output_type": "stream",
     "text": [
      "3.1737753636030304 \n",
      " ['save', 'about', 'help', 'print', 'open', 'close', '-', '-', '-']\n"
     ]
    }
   ],
   "source": [
    "# Introduce Fitts' law as an objective function (obj_fitts)\n",
    "# (See the description of Fitts' law in Wikipedia)\n",
    "# Use a random solver to minimize average selection time of menu\n",
    "\n",
    "\n",
    "import numpy as np\n",
    "import math, random\n",
    "\n",
    "def obj_fitts(menu, frequencies):\n",
    "    a = 0.2 \n",
    "    b = 0.3 # This coefficient controls the slope of Fitts' law\n",
    "    costs = [a + b*math.log(i+1) for i in range (0, len(menu))]\n",
    "    st_sum = 0.0\n",
    "    # Here we compute sum weighted by click frequencies\n",
    "    for i in range (0, len(menu)):\n",
    "        st_sum += costs[i] * frequencies[menu[i]]\n",
    "    return st_sum\n",
    "\n",
    "# A random search -based solver\n",
    "# Picks a random menu (random.sample)\n",
    "def optimizer (max_iters, seed_menu, frequencies):\n",
    "    bestknown_value = float('inf')\n",
    "    bestknown_design = []\n",
    "    for i in range (0, max_iters):\n",
    "        candidate = random.sample(seed_menu, len(seed_menu))\n",
    "        objective_value = obj_fitts(candidate, frequencies) \n",
    "\n",
    "        if objective_value < bestknown_value: # Minimization task\n",
    "            bestknown_value = objective_value\n",
    "            bestknown_design = candidate\n",
    "    return bestknown_value, bestknown_design\n",
    "\n",
    "bestvalue, menu = optimizer (10000, menu, frequencies)\n",
    "print (bestvalue, \"\\n\", menu)"
   ]
  },
  {
   "cell_type": "code",
   "execution_count": 4,
   "metadata": {},
   "outputs": [
    {
     "data": {
      "application/vnd.jupyter.widget-view+json": {
       "model_id": "01c7601abfca444c9018556205309a48",
       "version_major": 2,
       "version_minor": 0
      },
      "text/plain": [
       "VBox(children=(Button(button_style='info', description='save', style=ButtonStyle()), Button(button_style='info…"
      ]
     },
     "metadata": {},
     "output_type": "display_data"
    },
    {
     "data": {
      "application/vnd.jupyter.widget-view+json": {
       "model_id": "30c86b24e04a49e2bde4fa3ebe3b0a32",
       "version_major": 2,
       "version_minor": 0
      },
      "text/plain": [
       "Output()"
      ]
     },
     "metadata": {},
     "output_type": "display_data"
    }
   ],
   "source": [
    "utilities.showmenu(menu)"
   ]
  },
  {
   "cell_type": "markdown",
   "metadata": {},
   "source": [
    "<div class=\"alert alert-block alert-success\">\n",
    "<b>Try it out:</b> What happens if you change number of iterations? What happens if you change parameters a and b in obj_fitts?\n",
    "</div>\n",
    "\n",
    "<div class=\"alert alert-block alert-success\">\n",
    "<b>Discussion:</b> Although the elements are organized as expected, according to decreasing frequency from top to bottom, why is this **not** a good menu?\n",
    "</div>"
   ]
  },
  {
   "cell_type": "markdown",
   "metadata": {},
   "source": [
    "# 2. Data-driven design\n",
    "\n",
    "In **data-driven design**, we learn a distribution of designs from a dataset and use the learned model in a generative fashion. Generated designs adhere to statistical structure learned in the dataset. \n",
    "\n",
    "We here learn how artificial neural networks can be used to learn a language model that can be used in the optimizer as an objective function that determines how elements should be positioned in relation to each other. Most applications of data-driven design operate with pixels or spatial representations like polygons. But don't let that fool you: the principled idea is the same as we show here.\n",
    "\n",
    "Case: We would like to generate a menu where related items are grouped, i.e. they sit next to each other in the menu. \n",
    "\n",
    "\n",
    "### Step 1: Learning a model (word embedding)\n",
    "\n",
    "We use methods from natural language processing (NLP) for **distributional semantics**. These methods quantify and categorize semantic similarities among linguistic items based on their distributional properties in a large corpus of language data.\n",
    "<img src=\"images/word-embeddings.png\" width=\"75%\">\n",
    "\n",
    "We use **Word2vec**, a word embedding -based model. Word2vec is a family of shallow, two-layer neural networks trained to reconstruct linguistic contexts of words. The input is a large corpus of text and output **a vector space**, typically of hundreds of dimensions. Each unique word in the corpus is assigned a corresponding vector in the space."
   ]
  },
  {
   "cell_type": "code",
   "execution_count": 5,
   "metadata": {},
   "outputs": [
    {
     "ename": "FileNotFoundError",
     "evalue": "[Errno 2] No such file or directory: './data/20_newsgroups/'",
     "output_type": "error",
     "traceback": [
      "\u001b[0;31m---------------------------------------------------------------------------\u001b[0m",
      "\u001b[0;31mFileNotFoundError\u001b[0m                         Traceback (most recent call last)",
      "\u001b[0;32m<ipython-input-5-7e90c28a3367>\u001b[0m in \u001b[0;36m<module>\u001b[0;34m\u001b[0m\n\u001b[1;32m     16\u001b[0m \u001b[0;31m# Preparations\u001b[0m\u001b[0;34m\u001b[0m\u001b[0;34m\u001b[0m\u001b[0;34m\u001b[0m\u001b[0m\n\u001b[1;32m     17\u001b[0m \u001b[0;31m# Go through each directory\u001b[0m\u001b[0;34m\u001b[0m\u001b[0;34m\u001b[0m\u001b[0;34m\u001b[0m\u001b[0m\n\u001b[0;32m---> 18\u001b[0;31m \u001b[0;32mfor\u001b[0m \u001b[0mname\u001b[0m \u001b[0;32min\u001b[0m \u001b[0msorted\u001b[0m\u001b[0;34m(\u001b[0m\u001b[0mos\u001b[0m\u001b[0;34m.\u001b[0m\u001b[0mlistdir\u001b[0m\u001b[0;34m(\u001b[0m\u001b[0mTEXT_DATA_DIR\u001b[0m\u001b[0;34m)\u001b[0m\u001b[0;34m)\u001b[0m\u001b[0;34m:\u001b[0m\u001b[0;34m\u001b[0m\u001b[0;34m\u001b[0m\u001b[0m\n\u001b[0m\u001b[1;32m     19\u001b[0m     \u001b[0mpath\u001b[0m \u001b[0;34m=\u001b[0m \u001b[0mos\u001b[0m\u001b[0;34m.\u001b[0m\u001b[0mpath\u001b[0m\u001b[0;34m.\u001b[0m\u001b[0mjoin\u001b[0m\u001b[0;34m(\u001b[0m\u001b[0mTEXT_DATA_DIR\u001b[0m\u001b[0;34m,\u001b[0m \u001b[0mname\u001b[0m\u001b[0;34m)\u001b[0m\u001b[0;34m\u001b[0m\u001b[0;34m\u001b[0m\u001b[0m\n\u001b[1;32m     20\u001b[0m     \u001b[0;32mif\u001b[0m \u001b[0mos\u001b[0m\u001b[0;34m.\u001b[0m\u001b[0mpath\u001b[0m\u001b[0;34m.\u001b[0m\u001b[0misdir\u001b[0m\u001b[0;34m(\u001b[0m\u001b[0mpath\u001b[0m\u001b[0;34m)\u001b[0m\u001b[0;34m:\u001b[0m\u001b[0;34m\u001b[0m\u001b[0;34m\u001b[0m\u001b[0m\n",
      "\u001b[0;31mFileNotFoundError\u001b[0m: [Errno 2] No such file or directory: './data/20_newsgroups/'"
     ]
    }
   ],
   "source": [
    "import os\n",
    "import io\n",
    "import sys\n",
    "import re\n",
    "from gensim.models import Word2Vec\n",
    "from gensim.models.phrases import Phraser, Phrases\n",
    "\n",
    "# dataset\n",
    "TEXT_DATA_DIR = './data/20_newsgroups/'\n",
    "\n",
    "texts = []         # list of text samples\n",
    "labels_index = {}  # dictionary mapping label name to numeric id\n",
    "labels = []        # list of label ids\n",
    "label_text = []    # list of label texts\n",
    "\n",
    "# Preparations\n",
    "# Go through each directory\n",
    "for name in sorted(os.listdir(TEXT_DATA_DIR)):\n",
    "    path = os.path.join(TEXT_DATA_DIR, name)\n",
    "    if os.path.isdir(path):\n",
    "        label_id = len(labels_index)\n",
    "        labels_index[name] = label_id\n",
    "        for fname in sorted(os.listdir(path)):\n",
    "            # News groups posts are named as numbers, with no extensions.\n",
    "            if fname.isdigit():\n",
    "                fpath = os.path.join(path, fname)\n",
    "                f = io.open(fpath, encoding='latin-1')\n",
    "                t = f.read()\n",
    "                i = t.find('\\n\\n')  # skip header in file (starts with two newlines.)\n",
    "                if 0 < i:\n",
    "                    t = t[i:]\n",
    "                texts.append(t)\n",
    "                f.close()\n",
    "                labels.append(label_id)\n",
    "                label_text.append(name)\n",
    "print('Found %s texts.' % len(texts))"
   ]
  },
  {
   "cell_type": "code",
   "execution_count": null,
   "metadata": {},
   "outputs": [],
   "source": [
    "# Cleaning data - remove punctuation from every newsgroup text\n",
    "sentences = []\n",
    "# Go through each text in turn\n",
    "for ii in range(len(texts)):\n",
    "    sentences = [re.sub(pattern=r'[\\!\"#$%&\\*+,-./:;<=>?@^_`()|~=]', \n",
    "                        repl='', \n",
    "                        string=x\n",
    "                       ).strip().split(' ') for x in texts[ii].split('\\n') \n",
    "                      if not x.endswith('writes:')]\n",
    "    sentences = [x for x in sentences if x != ['']]\n",
    "    texts[ii] = sentences\n",
    "\n",
    "# Compile all sentences together in one list\n",
    "\n",
    "all_sentences = []\n",
    "for text in texts:\n",
    "    all_sentences += text"
   ]
  },
  {
   "cell_type": "code",
   "execution_count": null,
   "metadata": {},
   "outputs": [],
   "source": [
    "# Create a model\n",
    "model = Word2Vec(all_sentences, \n",
    "                 min_count=3,   # Ignore words that appear with fewer frequency than this\n",
    "                 size=200,      # Dimensionality of word embeddings (200)\n",
    "                 workers=2,     # Number of processors (parallelisation)(2)\n",
    "                 window=5,      # Context window for words during training (5)\n",
    "                 iter=30)       # Number of epochs training over corpus (30)"
   ]
  },
  {
   "cell_type": "code",
   "execution_count": null,
   "metadata": {},
   "outputs": [],
   "source": [
    "# Generates a dict of associations \n",
    "def association_script(list_items):\n",
    "    \n",
    "    association_dict = {}\n",
    "        \n",
    "    for item in list_items:\n",
    "        newObj={}\n",
    "        for j in list_items:\n",
    "            # Calculate similarity between 2 items\n",
    "            similarity = model.wv.similarity(item,j)\n",
    "            # If there is sufficient similarity between items, group them together\n",
    "            if similarity > 0.1:\n",
    "                newObj[j] = round(similarity,1);\n",
    "                association_dict[item] = newObj;\n",
    "            \n",
    "    return association_dict\n",
    "        \n",
    "    \n",
    "#list = ['lemon','orange', 'dog', 'horse'] \n",
    "list = menu\n",
    "\n",
    "association_script(list)"
   ]
  },
  {
   "cell_type": "markdown",
   "metadata": {},
   "source": [
    "Alternative: A manually created association matrix"
   ]
  },
  {
   "cell_type": "code",
   "execution_count": null,
   "metadata": {},
   "outputs": [],
   "source": [
    "\n",
    "# We represent an association matrix here as an dict of dicts \n",
    "associations = { \"open\":  {\"open\": 1.0, \"save\": 0.5, \"close\": 0.3}, \n",
    "                 \"save\":  {\"save\": 1.0, \"close\": 0.2, \"open\": 0.5}, \n",
    "                 \"close\": {\"close\": 1.0, \"open\": 0.2, \"save\":0.2}, \n",
    "                 \"help\":  {\"help\": 1.0, \"about\": 0.2}, \n",
    "                 \"about\": {\"about\":1.0, \"help\": 0.1},\n",
    "                 \"print\": {\"print\": 1.0} }"
   ]
  },
  {
   "cell_type": "markdown",
   "metadata": {},
   "source": [
    "Having an association matrix allows us to revisit the objective function:"
   ]
  },
  {
   "cell_type": "code",
   "execution_count": null,
   "metadata": {},
   "outputs": [],
   "source": [
    "# We introduce a new objective function\n",
    "# It pulls associated  items together (reward) and pushes unrelated items apart (penalty)\n",
    "def obj_assoc(menu, associations):\n",
    "    a_sum = 0.0\n",
    "    for i in range (0, len(menu)):\n",
    "        if menu[i] == \"-\": continue\n",
    "\n",
    "        for j in range (i+1, len(menu)):\n",
    "            if menu[j] == \"-\": continue\n",
    "            a = 0.0\n",
    "            try: a = associations[menu[i]][menu[j]] * abs(i - j)\n",
    "            except:\n",
    "                try: a = associations[menu[j]][menu[i]] * abs(i - j)\n",
    "                except: pass\n",
    "            if a == 0.0 and (abs(i-j)==1):  # unrelated, should not be next to each other\n",
    "                a_sum += 1.0 # penalty\n",
    "            else: \n",
    "                a_sum += a\n",
    "    return a_sum\n",
    "\n",
    "def optimizer (max_iters, seed_menu, frequencies, associations):\n",
    "    bestknown_value = float('inf')\n",
    "    bestknown_design = []\n",
    "    for i in range (0, max_iters):\n",
    "        candidate = random.sample(seed_menu, len(seed_menu))\n",
    "        # Association objective only\n",
    "        #objective_value = obj_assoc(candidate,associations)\n",
    "        # Both objectives combined in a weighted sum\n",
    "        objective_value = 0.1 * obj_fitts(candidate, frequencies) + obj_assoc(candidate,associations)\n",
    "\n",
    "        if objective_value < bestknown_value: # minimize\n",
    "            bestknown_value = objective_value\n",
    "            bestknown_design = candidate\n",
    "    return bestknown_value, bestknown_design\n",
    "\n",
    "\n",
    "\n",
    "bestvalue, bestdesign = optimizer (100000, menu, frequencies, associations)\n",
    "print (bestvalue, bestdesign)"
   ]
  },
  {
   "cell_type": "code",
   "execution_count": null,
   "metadata": {},
   "outputs": [],
   "source": [
    "utilities.showmenu(bestdesign)\n",
    "menu = bestdesign"
   ]
  },
  {
   "cell_type": "markdown",
   "metadata": {},
   "source": [
    "<div class=\"alert alert-block alert-success\">\n",
    "<b>Discussion:</b> The objective function is a weighted sum of two terms. What happens if you change the weight? \n",
    "</div>\n",
    "<div class=\"alert alert-block alert-success\">\n",
    "<b>Discussion:</b> The system is **fragile**. If you change the weights, results will vary. How could this be addressed? \n",
    "</div>"
   ]
  },
  {
   "cell_type": "markdown",
   "metadata": {},
   "source": [
    "\n",
    "---\n",
    "\n",
    "# 3. Model-based Combinatorial Optimization\n",
    "\n",
    "In **model-based combinatorial optimization**, we use a predictive model as an objective function.\n",
    "**Predictive models** in HCI predict the consequences of some conditions on users. Numerous models exist in literature, including for motor control, perception, attention, memory, decision-making, learning, and biomechanics. \n",
    "\n",
    "Let us introduce a predictive model to our system! It allows us to collapse the two terms to just one. \n",
    "\n",
    "## Preliminary: Classical decision-making theory\n",
    "\n",
    "**Classical decision-making theory** assumes that the decision-maker is an omniscient (all-knowing) utility-maximizing agent. The agent has multiple options and needs to select one that maximizes utility:\n",
    "(based on [P. Ortega](http://www.adaptiveagents.org/freeenergy)):\n",
    "$$a∗= \\argmax_{a \\in A}  E[U|a] \\\\ = \\argmax_{a \\in A} \\sum_{x \\in X} P(x|a)U(x)$$\n",
    "\n",
    "where\n",
    "* $A$ is a set of possible actions \n",
    "* $X$ is a set of possible outcomes or consequences\n",
    "* $U$ is a real-valued utility function \n",
    "* $P$ is a probability distribution specifying the conditional probability P(x|a) of an outcome x given action a.\n",
    "\n",
    "Optimal actions a* maximize expected utility. \n",
    "\n",
    "\n",
    "## Application: An optimal foraging policy for menu search\n",
    "\n",
    "**Information foraging theory** posits that in interaction people exchange their time to obtain information. The theory originates from biology where it is used to predict animal foraging behavior. **Information foraging** refers to activities like assessing, seeking, and handling information contents in a virtual environment.  Decisions on how to pursue these are governed by (1) information allowed by available actions and (2) the time or effort needed to in each action. \n",
    "\n",
    "The theory propounds that interactive behavior is rational and develops to maximize the rate of information gained per unit of time (or effort) invested. In other words, in foraging, information gains are proportionate to time expended:\n",
    "\n",
    "$$\\mbox{information gained} \\propto \\mbox{time used}$$\n",
    "\n",
    "We here apply this model, implemeting **a foraging policy** that describes a user's menu search strategy:\n",
    "1. Look at an item\n",
    "2. If it is related to the target, keep reading the present subgroup one item at a time.\n",
    "3. If it is *not* related, skip to the next subgroup.\n",
    "4. If the target is found, stop.\n",
    "5. If the end of the  menu is reached, pay penalty."
   ]
  },
  {
   "cell_type": "code",
   "execution_count": null,
   "metadata": {},
   "outputs": [],
   "source": [
    "# This implements the foraging model for grouped menus\n",
    "\n",
    "def search_time (target, menu, associations):\n",
    "    t = 0.0\n",
    "    groupboundary = False\n",
    "    targetfound = False\n",
    "    anchor = None\n",
    "    \n",
    "    item_cost = 0.3\n",
    "    group_cost = 0.4\n",
    "        \n",
    "    for i in range (0, len(menu)):\n",
    "        if menu[i] == \"-\": \n",
    "            groupboundary = True\n",
    "            anchor = None\n",
    "            continue\n",
    "        if i==0:\n",
    "            groupboundary = True\n",
    "        if groupboundary and (menu[i] != \"-\"): # group starts\n",
    "            t += item_cost # read the anchor of a group\n",
    "            if menu[i] in associations.keys() and (menu[target] in associations[menu[i]]):\n",
    "                anchor = menu[i] # it is here\n",
    "            elif menu[i] in associations.keys() and (menu[target] not in associations[menu[i]]):\n",
    "                anchor = None # it's not here: skip\n",
    "                t += group_cost # group skipping penalty\n",
    "            groupboundary = False\n",
    "        elif groupboundary == False:\n",
    "            if anchor != None:\n",
    "                t += item_cost # read item in the group            \n",
    "        if (anchor != None) and (i == target): # found!\n",
    "            targetfound = True\n",
    "            break\n",
    "        elif (anchor != None) and (i != target) and (anchor not in associations[menu[i]].keys()):\n",
    "            anchor = None # anchor lost\n",
    "            t += item_cost # read item in the group\n",
    "        elif (anchor == None):\n",
    "            continue\n",
    "    if not targetfound:\n",
    "        t += item_cost * len(menu) # scanning penalty \n",
    "    return round(t,3)\n",
    "\n",
    "# Return or print all search times as predicted by the model\n",
    "def searchtimes(menu, associations, verbose=False):\n",
    "    sts = {}\n",
    "    for i in range (0, len(menu)):\n",
    "        st = search_time(i, menu, associations)\n",
    "        if verbose:\n",
    "            if menu[i] == '-': st=\"\"\n",
    "            print(\"{:6s} {:3s}\".format(menu[i], str(st)))\n",
    "        else:\n",
    "            if menu[i] != '-':\n",
    "                sts[menu[i]] = st\n",
    "    if not verbose: return sts\n",
    "\n",
    "searchtimes(menu,associations, True)"
   ]
  },
  {
   "cell_type": "code",
   "execution_count": null,
   "metadata": {},
   "outputs": [],
   "source": [
    "# We can now use this new objective function in the optimizer\n",
    "\n",
    "# First need to combine foraging-based predictions with frequencies to know what to prioritize\n",
    "def obj_forage(menu, frequencies, associations):\n",
    "    total_t = 0.0\n",
    "    for target in range (0, len(menu)):\n",
    "        if menu[target] == '-': continue\n",
    "        total_t += frequencies[menu[target]] * search_time(target, menu, associations)\n",
    "    return round(total_t / len(frequencies),5)\n",
    "\n",
    "def optimizer (max_iters, seed_menu, frequencies, associations):\n",
    "    bestknown_value = float('inf')\n",
    "    bestknown_design = []\n",
    "    for i in range (0, max_iters):\n",
    "        candidate = random.sample(seed_menu, len(seed_menu))\n",
    "        objective_value = obj_forage(candidate, frequencies, associations)\n",
    "\n",
    "        if objective_value < bestknown_value: # minimize\n",
    "            bestknown_value = objective_value\n",
    "            bestknown_design = candidate\n",
    "    return bestknown_value, bestknown_design\n",
    "\n",
    "menu = [\"help\", \"-\", \"open\",\"save\",\"-\",\"print\",\"close\",\"-\",\"about\"]\n",
    "\n",
    "bestvalue, bestmenu = optimizer (100000, menu, frequencies, associations)\n",
    "print (bestvalue, bestmenu)"
   ]
  },
  {
   "cell_type": "code",
   "execution_count": null,
   "metadata": {},
   "outputs": [],
   "source": [
    "menu = bestmenu\n",
    "searchtimes(menu,associations)\n",
    "utilities.showmenu(menu)"
   ]
  },
  {
   "cell_type": "markdown",
   "metadata": {},
   "source": [
    "<div class=\"alert alert-block alert-success\">\n",
    "<b>Task:</b> This solution does not consider the **cost** of changing a menu. When the location of an item is changed, the user must re-learn that aspect of the menu. Can you design an adaptation penalty that penalizes moving frequently used items far away from their original positions?\n",
    "</div>"
   ]
  },
  {
   "cell_type": "code",
   "execution_count": null,
   "metadata": {},
   "outputs": [],
   "source": []
  }
 ],
 "metadata": {
  "kernelspec": {
   "display_name": "Python 3",
   "language": "python",
   "name": "python3"
  },
  "language_info": {
   "codemirror_mode": {
    "name": "ipython",
    "version": 3
   },
   "file_extension": ".py",
   "mimetype": "text/x-python",
   "name": "python",
   "nbconvert_exporter": "python",
   "pygments_lexer": "ipython3",
   "version": "3.8.10"
  }
 },
 "nbformat": 4,
 "nbformat_minor": 2
}
