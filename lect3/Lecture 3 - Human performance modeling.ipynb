{
 "cells": [
  {
   "cell_type": "markdown",
   "metadata": {},
   "source": [
    "\n",
    "$$\\newcommand{\\vec}[1]{{\\bf #1} } \n",
    "\\newcommand{\\real}{\\mathbb{R} }\n",
    "\\newcommand{\\expect}[1]{\\mathbb{E}[#1] }\n",
    "\\DeclareMathOperator*{\\argmin}{arg\\,min}\n",
    "\\DeclareMathOperator*{\\argmax}{arg\\,max}\n",
    "\\newcommand{\\E}{\\mathbb{E}}$$\n",
    "\n",
    "### ELEC-E7851: Computational User Interface Design \n",
    "### Fall 2021\n",
    "\n",
    "<img src=\"images/performance.png\" width=\"25%\" align=\"right\">\n",
    "\n",
    "\n",
    "# Lecture 3: Human Performance Modeling\n",
    "\n",
    "### Antti Oulasvirta, Aalto University\n",
    "*Email: antti.oulasvirta@aalto.fi*\n",
    "\n",
    "This notebook reviews models of human performance in interactive tassk. The models cover basics of motor control, attention, and choice. \n",
    "\n",
    "### Engineering models\n",
    "The models presented here are **engineering models**. Engineering models are used to predict human performance under conditions related to design, task, and the user. As opposed to **scientific models** where the prime goal is validity, the main purpose here applicability in decision-making and design. They are formulated mathematically, for exampla using regression, and contain three types of variables: (1) those describing task conditions, (2) those describing predictions regarding human performance, and (3) free parameters. Engineering models normally have fewer free parameters than scientific models. Their focus is on capturing _just enough_ variance with minimum assumptions. Simplicity helps when (1) fitting models to data, (2) editing them to improve them, and (3) using them computationally for example in computational design or adaptation. \n",
    "\n",
    "### Modeling workflow\n",
    "\n",
    "How are such models created in the first place? The paper [Ten simple rules for the computational modeling of behavioral data](https://elifesciences.org/articles/49547) describes the steps. In this notebook, we focus on understanding elements of models rather than how they are constructed.\n",
    "\n",
    "### This notebook: Case and learning objectives\n",
    "\n",
    "We continue inspecting the menu system as our case. Menu is a special case of graphical interaction with one degree of freedom in movement (up or down). It is sufficiently complex to have contributions from motor control, attention, strategy, and learning. The associated slide deck provides a more comprehensive overview of human performance models. \n",
    "\n",
    "Our objective in this notebook is to get familiar with **statistical models** of human performance, where the relationship between conditions and performance is described with a low number of parameters. In the next lecture, we will focus on **simulator models** where the solution of an interactive problem is simulated in a step-by-step manner.  \n",
    "\n",
    "### Contents\n",
    "1. Aimed movements: Fitts' law\n",
    "2. Choice reaction: Hick's law\n",
    "3. Search: Linear scanning model\n",
    "4. Search: Recall model\n",
    "5. Search: Foraging model\n",
    "\n",
    "<img src=\"images/menus.png\" width=\"85%\">\n",
    "\n",
    "Source: \n",
    "* Most of the modeling assumptions are based on [Bailly et al. CHI'14](https://hal.sorbonne-universite.fr/hal-01820441/document)\n",
    "\n",
    "<p>\n",
    "<div class=\"alert alert-block alert-danger\"> \n",
    "<h3>Missing code cell</h3> \n",
    "<br>\n",
    "The implementation of Hick's law is left blank as an exercise.\n",
    "</div>\n",
    "</p>"
   ]
  },
  {
   "cell_type": "markdown",
   "metadata": {},
   "source": [
    "---\n",
    "\n",
    "# 1. Aimed movements: Fitts' law\n",
    "\n",
    "<img src=\"images/fitts.png\" width=\"65%\" align=\"center\">\n",
    "\n",
    "**Recap:** Fitts' law is a model of _aimed movements_. A single end-effector is to be moved on top of a spatially bounded target. The target has width W and distance D. Here movement time is given as:\n",
    "\n",
    "$$ MT = a + b ID = a + b log_2 (D/W + 1) $$\n",
    "\n",
    "In the following, we assume empirical parameters a and b to be given. Width W, on the other hand, is constant so we can ignore it. \n",
    "\n",
    "Model of menu behavior:\n",
    "* Expected selection time is the weighted sum of movement times"
   ]
  },
  {
   "cell_type": "code",
   "execution_count": 1,
   "metadata": {},
   "outputs": [
    {
     "data": {
      "application/vnd.jupyter.widget-view+json": {
       "model_id": "",
       "version_major": 2,
       "version_minor": 0
      },
      "text/plain": [
       "VBox(children=(Button(button_style='info', description='save', style=ButtonStyle()), Button(button_style='info…"
      ]
     },
     "metadata": {},
     "output_type": "display_data"
    },
    {
     "data": {
      "application/vnd.jupyter.widget-view+json": {
       "model_id": "6e34c7d82f714f21a267ad64500020de",
       "version_major": 2,
       "version_minor": 0
      },
      "text/plain": [
       "Output()"
      ]
     },
     "metadata": {},
     "output_type": "display_data"
    }
   ],
   "source": [
    "import utilities\n",
    "from collections import Counter\n",
    "\n",
    "menu = [\"save\", \"help\", \"-\", \"about\",\"print\",\"-\",\"save-as\",\"open-URL\", \"share\", \"close\",\"-\",\"open\"]\n",
    "associations = { \"open\": {\"open\": 1.0, \"open-URL\": 0.7, \"save\": 0.5, \"save-as\": 0.2, \"close\": 0.3}, \n",
    "                 \"save\": {\"save\": 1.0, \"save-as\": 0.6, \"close\": 0.2, \"open\": 0.5, \"open-URL\": 0.2}, \n",
    "                 \"open-URL\": {\"open-URL\": 1.0, \"open\": 0.7, \"save\": 0.5, \"save-as\": 0.2, \"close\": 0.3},\n",
    "                 \"save-as\": {\"save as\": 1.0, \"save\": 0.8, \"close\": 0.1, \"open\": 0.2, \"open-URL\": 0.1},\n",
    "                 \"close\": {\"close\": 1.0, \"open\": 0.2, \"save\":0.2}, \"help\": {\"help\": 1.0, \"about\": 0.2}, \n",
    "                 \"about\": {\"about\":1.0, \"help\": 0.1}, \n",
    "                 \"print\": {\"print\":1.0, \"share\": 0.2}, \n",
    "                 \"share\": {\"share\":1.0, \"print\": 0.2} \n",
    "               }\n",
    "\n",
    "utilities.showmenu(menu)\n",
    "\n"
   ]
  },
  {
   "cell_type": "code",
   "execution_count": 3,
   "metadata": {},
   "outputs": [
    {
     "data": {
      "image/png": "[encoded data removed]",
      "text/plain": [
       "<Figure size 432x288 with 1 Axes>"
      ]
     },
     "metadata": {},
     "output_type": "display_data"
    }
   ],
   "source": [
    "frequencies = utilities.parsedata()\n",
    "utilities.plothistogram(menu)"
   ]
  },
  {
   "cell_type": "code",
   "execution_count": 4,
   "metadata": {},
   "outputs": [
    {
     "name": "stdout",
     "output_type": "stream",
     "text": [
      "command   prediction\n",
      "save      0.30 s\n",
      "help      0.65 s\n",
      "-         0.85 s\n",
      "about     0.99 s\n",
      "print     1.10 s\n",
      "-         1.20 s\n",
      "save-as   1.27 s\n",
      "open-URL  1.34 s\n",
      "share     1.40 s\n",
      "close     1.45 s\n",
      "-         1.50 s\n",
      "open      1.54 s\n"
     ]
    }
   ],
   "source": [
    "import numpy as np\n",
    "import math, random\n",
    "\n",
    "# We have changed the objective structure a bit from last lecture\n",
    "# Fitts' law is taken away from the objective function to a separate function\n",
    "def fitts(distance, frequency, *params):\n",
    "    # a - empirical parameter, \"non-informative cost\"\n",
    "    # b - empirical parameter, \"informative cost\"\n",
    "    # distance - distance from the top of the menu\n",
    "    # frequency is not used yet (see fitts_learning)\n",
    "    a = params[0][0]\n",
    "    b = params[0][1]    \n",
    "    return a + b * math.log (distance + 1)\n",
    "\n",
    "# A generic handler for objective functions\n",
    "def objective(menu, frequencies, *params):\n",
    "    st_sum = 0.0\n",
    "    for i in range (0, len(menu)):\n",
    "        st_sum += fitts(i, frequencies[i], *params) * frequencies[menu[i]]\n",
    "    return st_sum / sum(frequencies.values())\n",
    "\n",
    "# A generic handler for testing objective functions\n",
    "def test(menu, frequencies, objective, *params):\n",
    "    print (\"command   prediction\")\n",
    "    for i in range (0, len(menu)):\n",
    "        value = objective(i, frequencies[menu[i]], *params)\n",
    "        print (\"{:8s}  {:0.2f} s\".format(menu[i], value))\n",
    "\n",
    "params = [0.3, 0.5] # a and b of Fitts' law\n",
    "test (menu, frequencies, fitts, params)"
   ]
  },
  {
   "cell_type": "code",
   "execution_count": 5,
   "metadata": {},
   "outputs": [
    {
     "name": "stdout",
     "output_type": "stream",
     "text": [
      "0.5680991448175751 \n",
      " ['close', 'print', 'about', 'open', 'save', 'help', 'save-as', 'share', '-', '-', 'open-URL', '-']\n"
     ]
    }
   ],
   "source": [
    "# Let's optimize a menu using this model\n",
    "\n",
    "# Random search solver from lecture 3\n",
    "def optimizer (max_iters, seed_menu, frequencies, associations, params):\n",
    "    bestknown_value = float('inf')\n",
    "    bestknown_design = []\n",
    "    for i in range (0, max_iters):\n",
    "        candidate = random.sample(seed_menu, len(seed_menu))\n",
    "        objective_value = objective(candidate, frequencies, params) \n",
    "        if objective_value < bestknown_value: # minimize\n",
    "            bestknown_value = objective_value\n",
    "            bestknown_design = candidate\n",
    "    return bestknown_value, bestknown_design\n",
    "\n",
    "bestvalue, bestmenu = optimizer (100000, menu, frequencies, associations, params)\n",
    "print (bestvalue, \"\\n\", bestmenu)"
   ]
  },
  {
   "cell_type": "code",
   "execution_count": 6,
   "metadata": {},
   "outputs": [
    {
     "data": {
      "application/vnd.jupyter.widget-view+json": {
       "model_id": "",
       "version_major": 2,
       "version_minor": 0
      },
      "text/plain": [
       "VBox(children=(Button(button_style='info', description='close', style=ButtonStyle()), Button(button_style='inf…"
      ]
     },
     "metadata": {},
     "output_type": "display_data"
    },
    {
     "data": {
      "application/vnd.jupyter.widget-view+json": {
       "model_id": "2e4557d1e6884b479f767bcdf7ece1fe",
       "version_major": 2,
       "version_minor": 0
      },
      "text/plain": [
       "Output()"
      ]
     },
     "metadata": {},
     "output_type": "display_data"
    }
   ],
   "source": [
    "utilities.showmenu(bestmenu)"
   ]
  },
  {
   "cell_type": "markdown",
   "metadata": {},
   "source": [
    "## Motor learning (Power law of practice) \n",
    "\n",
    "<img src=\"images/powerlaw.png\" width=\"35%\" align=\"right\">\n",
    "\n",
    "How to take the improvement of performance over time into account?\n",
    "[**Power law of practice**](https://www.nngroup.com/articles/power-law-learning/) models the change in motor performance with repetitions.\n",
    "\n",
    "> \"The power law of practice states that the logarithm of the reaction time for a particular task decreases linearly with the logarithm of the number of practice trials taken.\" (Wikipedia) \n",
    "\n",
    "Power law formulation:\n",
    "$$ T = aP^{−b} + c $$\n",
    "\n",
    "Exponential formulation:\n",
    "$$ T = ae^{−b(P-1)} + c $$\n",
    "\n",
    "where\n",
    "* T = trial completion time\n",
    "* P = trial number\n",
    "* a, b, and c, are empirical parameters. \n",
    "\n",
    "Model of menu behavior:\n",
    "* Same as the Fitts' model, but MT is modified by the number of previous encounters with the item "
   ]
  },
  {
   "cell_type": "code",
   "execution_count": 7,
   "metadata": {},
   "outputs": [
    {
     "name": "stdout",
     "output_type": "stream",
     "text": [
      "command   prediction\n",
      "save      0.40 s\n",
      "help      0.61 s\n",
      "-         0.73 s\n",
      "about     0.82 s\n",
      "print     0.88 s\n",
      "-         0.94 s\n",
      "save-as   0.98 s\n",
      "open-URL  1.02 s\n",
      "share     1.06 s\n",
      "close     1.09 s\n",
      "-         1.12 s\n",
      "open      1.15 s\n",
      "command   prediction\n",
      "save      0.40 s\n",
      "help      0.61 s\n",
      "-         0.80 s\n",
      "about     0.74 s\n",
      "print     0.80 s\n",
      "-         1.06 s\n",
      "save-as   0.98 s\n",
      "open-URL  1.16 s\n",
      "share     1.06 s\n",
      "close     0.48 s\n",
      "-         1.28 s\n",
      "open      1.15 s\n"
     ]
    }
   ],
   "source": [
    "def fitts_learning(distance, frequency, *params):\n",
    "    a = params[0][0]\n",
    "    b = params[0][1]\n",
    "    b_pll = params[0][2] # learning parameter\n",
    "    MT = a + b * math.log(distance+1) * math.exp(- b_pll * (frequency-1))\n",
    "    return MT\n",
    "\n",
    "\n",
    "params = [0.4, 0.3, 0.2]\n",
    "test (menu, frequencies, fitts, params)\n",
    "test (menu, frequencies, fitts_learning, params)\n",
    "\n",
    "\n"
   ]
  },
  {
   "cell_type": "markdown",
   "metadata": {},
   "source": [
    "<p>\n",
    "<div class=\"alert alert-block alert-success\"> \n",
    "<h3>Discussion</h3> \n",
    "<br>\n",
    "What would happen if we optimized a menu using fitts_learning as the objective function?\n",
    "</div>\n",
    "</p>"
   ]
  },
  {
   "cell_type": "markdown",
   "metadata": {},
   "source": [
    "---\n",
    "\n",
    "# 2. Choice reaction: Hick's law\n",
    "\n",
    "Hick-Hyman law is a model of **choice reaction time (CRT)**. It describes the relationship between number of options one chooses from and choice time. \n",
    "\n",
    "$$T=b \\cdot \\log _{{2}}(n+1)$$\n",
    "\n",
    "where n is the number of options and b is an empirical parameter. In the case of unequal propabilities, the model becomes\n",
    "\n",
    "$$ T = bH = H=\\sum _{i}^{n}p_{i}\\log _{{2}}(1/p_{i}+1)$$\n",
    "\n",
    "In conditions of _stimulus--response compatibility_, processing speed should be higher. \n",
    "\n",
    "<p>\n",
    "<div class=\"alert alert-block alert-success\"> \n",
    "<h3>Exercise</h3> \n",
    "<br>\n",
    "Implement a Hick's law model for a menu with subgroups. **Tips:** Assume that the user starts from the top and must decide for each _subgroup_ if the target is there or not. Decision time for each subgroup is given by Hick's law. Total cost is then the sum of Hick-decision times until the user arrived to the subgroup that contains the target. \n",
    "</div>\n",
    "</p>\n",
    "\n",
    "Comment from student Abhishek Kumar: Hick’s law has been criticized in this recent CHI paper! Liu, W., Gori, J., Rioul, O., Beaudouin-Lafon, M., & Guiard, Y. (2020, April). How Relevant is Hick's Law for HCI?. In Proceedings of the 2020 CHI Conference on Human Factors in Computing Systems (pp. 1-11)."
   ]
  },
  {
   "cell_type": "code",
   "execution_count": null,
   "metadata": {},
   "outputs": [],
   "source": [
    "def hicks(distance, frequency, *args):\n",
    "    menu = args[0][0]\n",
    "    frequencies = args[0][1]\n",
    "    b = args[0][2]\n",
    "    \n",
    "    # add your model here     \n",
    "    # for ...\n",
    "    #\n",
    "    # tip: sum(frequencies.values()) gives you total number of clicks\n",
    "\n",
    "    T = 0\n",
    "\n",
    "    return T\n",
    "\n",
    "\n",
    "params = [menu, frequencies, 0.3]\n",
    "test (menu, frequencies, hicks, params)"
   ]
  },
  {
   "cell_type": "markdown",
   "metadata": {},
   "source": [
    "<p>\n",
    "<div class=\"alert alert-block alert-success\"> \n",
    "<h3>Discussion</h3> \n",
    "<br>\n",
    "Why is this model too optimistic, i.e. gives too high performance estimations?\n",
    "</div>\n",
    "</p>"
   ]
  },
  {
   "cell_type": "markdown",
   "metadata": {},
   "source": [
    "# 3: Search: Linear search\n",
    "\n",
    "**Linear search** refers to the top-to-bottom inspection of items. Items are inspected one at a time and a time cost is paid for each inspection. Items that appear after the target are not visited. With practice, users not only skip more items but also spend less time on each visited item. \n"
   ]
  },
  {
   "cell_type": "code",
   "execution_count": 10,
   "metadata": {},
   "outputs": [
    {
     "name": "stdout",
     "output_type": "stream",
     "text": [
      "command   prediction\n",
      "save      0.50 s\n",
      "help      1.00 s\n",
      "-         1.64 s\n",
      "about     1.86 s\n",
      "print     2.32 s\n",
      "-         3.27 s\n",
      "save-as   3.51 s\n",
      "open-URL  4.37 s\n",
      "share     4.51 s\n",
      "close     3.22 s\n",
      "-         6.00 s\n",
      "open      6.01 s\n"
     ]
    }
   ],
   "source": [
    "# time cost for reading an item\n",
    "# time cost decreases with number of encounters\n",
    "def read (n_encounters, a_s = 0.3, b_s = 0.3):     \n",
    "    return a_s + a_s * math.exp(- b_s * n_encounters)\n",
    "\n",
    "def scan(targetindex, n_encounters, *params):\n",
    "    a_s = params[0][0] \n",
    "    b_s = params[0][1] # Set this to zero to have a novice model\n",
    "    t = 0.0\n",
    "    for i in range (0, targetindex+1):\n",
    "        t += read(n_encounters+1, a_s, b_s)\n",
    "    return round(t,3)\n",
    "\n",
    "params = [0.3, 0.2]\n",
    "test (menu, frequencies, scan, params)\n"
   ]
  },
  {
   "cell_type": "markdown",
   "metadata": {},
   "source": [
    "<p>\n",
    "<div class=\"alert alert-block alert-success\"> \n",
    "<h3>Discussion</h3> \n",
    "<br>\n",
    "How does manipulation of b_s affect predictions? \n",
    "</div>\n",
    "</p>"
   ]
  },
  {
   "cell_type": "markdown",
   "metadata": {},
   "source": [
    "# 4. Search: Recall\n",
    "\n",
    "In **recall-based search**, the user tries to glance directly at the target.  Attempts are initially more random, but become more accurate with time. As an experienced user has memory about the location of the target, he/she can glance at the neighborhood of the target and, eventually, directly move the eyes to it. We assume that if this attempt fails, the user must scan the list from the beginning to find the target (penalty). "
   ]
  },
  {
   "cell_type": "code",
   "execution_count": 11,
   "metadata": {},
   "outputs": [
    {
     "name": "stdout",
     "output_type": "stream",
     "text": [
      "command   prediction\n",
      "save      0.00 s\n",
      "help      0.55 s\n",
      "-         1.20 s\n",
      "about     1.50 s\n",
      "print     0.50 s\n",
      "-         3.00 s\n",
      "save-as   3.27 s\n",
      "open-URL  4.20 s\n",
      "share     0.55 s\n",
      "close     2.94 s\n",
      "-         6.00 s\n",
      "open      6.00 s\n"
     ]
    }
   ],
   "source": [
    "# Recall\n",
    "def recall(target, n_encounters, *params):    \n",
    "    menu = params[0][0] \n",
    "    a_s = params[0][1]\n",
    "    b_s = params[0][2]\n",
    "    b_r = params[0][3]\n",
    "    \n",
    "    recall_probability = 1.0 - math.exp(-b_r * (n_encounters+1))\n",
    "    t = read(n_encounters, a_s, b_s)\n",
    "\n",
    "    if random.random() > recall_probability: # if recall fails\n",
    "        t *= target                          # penalty must be paid\n",
    "    return round(t,3)\n",
    "\n",
    "params = [menu, 0.3, 0.2, 0.2]\n",
    "test (menu, frequencies, recall, params)\n"
   ]
  },
  {
   "cell_type": "markdown",
   "metadata": {},
   "source": [
    "<p>\n",
    "<div class=\"alert alert-block alert-success\"> \n",
    "<h3>Exercise</h3> \n",
    "<br>\n",
    "Create a rational time-minimizing user model that switches to recall as soon as it becomes more efficient than using scanning.\n",
    "</div>\n",
    "</p>"
   ]
  },
  {
   "cell_type": "code",
   "execution_count": null,
   "metadata": {},
   "outputs": [],
   "source": []
  },
  {
   "cell_type": "markdown",
   "metadata": {},
   "source": [
    "# 5. Search: Foraging\n",
    "\n",
    "**Information foraging theory** posits that in interaction people exchange their time to obtain information. Decisions on how to pursue these are governed by (1) information allowed by available actions and (2) the time or effort needed to in each action. The theory propounds that interactive behavior develops to maximize the rate of information gained per unit of time (or effort) invested. In other words, in foraging, information gains are proportionate to time expended:\n",
    "\n",
    "$$\\mbox{information gained} \\propto \\mbox{time used}$$\n",
    "\n",
    "We implement **a foraging policy** for menu search. The user is assumed to obtain 'a scent' of a subgroup based on the first item (anchor). If that item is related to the target, it continues in that subgroup. If not, it continues.\n",
    "\n",
    "Policy:\n",
    "1. Look at an item\n",
    "2. If it is related to the target, keep reading the present subgroup one item at a time.\n",
    "3. If it is *not* related, skip to the next subgroup.\n",
    "4. If the target is found, stop.\n",
    "5. If the end of the  menu is reached, pay penalty."
   ]
  },
  {
   "cell_type": "code",
   "execution_count": 10,
   "metadata": {},
   "outputs": [
    {
     "name": "stdout",
     "output_type": "stream",
     "text": [
      "command   prediction\n",
      "save      0.30 s\n",
      "save-as   0.60 s\n",
      "-         4.60 s\n",
      "help      1.00 s\n",
      "print     4.60 s\n",
      "-         4.60 s\n",
      "about     1.90 s\n",
      "open-URL  4.10 s\n",
      "share     4.60 s\n",
      "close     4.10 s\n",
      "-         4.60 s\n",
      "open      2.30 s\n"
     ]
    }
   ],
   "source": [
    "def forage (target, frequency, *params):\n",
    "    menu = params[0][0] \n",
    "    associations = params[0][1]\n",
    "    item_cost = params[0][2]\n",
    "    group_cost = params[0][3]\n",
    "    \n",
    "    t = 0.0\n",
    "    groupboundary = False\n",
    "    targetfound = False\n",
    "    anchor = None\n",
    "    \n",
    "    for i in range (0, len(menu)):\n",
    "        if menu[i] == \"-\": \n",
    "            groupboundary = True\n",
    "            anchor = None\n",
    "            continue\n",
    "        if i==0:\n",
    "            groupboundary = True\n",
    "        if groupboundary and (menu[i] != \"-\"): # group starts\n",
    "            t += item_cost # read the anchor of a group\n",
    "            if menu[i] in list(associations.keys()) and (menu[target] in associations[menu[i]]):\n",
    "                anchor = menu[i] # it is here\n",
    "            elif menu[i] in list(associations.keys()) and (menu[target] not in associations[menu[i]]):\n",
    "                anchor = None # it's not here: skip\n",
    "                t += group_cost # group skipping penalty\n",
    "            groupboundary = False\n",
    "        elif groupboundary == False:\n",
    "            if anchor != None:\n",
    "                t += item_cost # read item in the group            \n",
    "        if (anchor != None) and (i == target): # found!\n",
    "            targetfound = True\n",
    "            break\n",
    "        elif (anchor != None) and (i != target) and (anchor not in associations[menu[i]].keys()):\n",
    "            anchor = None # anchor lost\n",
    "            t += item_cost # read item in the group\n",
    "        elif (anchor == None):\n",
    "            continue\n",
    "    if not targetfound:\n",
    "        t += item_cost * len(menu)/2.0 # scanning penalty \n",
    "    return round(t,3)\n",
    "\n",
    "menu = [\"save\", \"save-as\", \"-\", \"help\",\"print\",\"-\",\"about\",\"open-URL\", \"share\", \"close\",\"-\",\"open\"]\n",
    "params = [menu, associations, 0.3, 0.4]\n",
    "test (menu, frequencies, forage, params)\n"
   ]
  },
  {
   "cell_type": "code",
   "execution_count": 15,
   "metadata": {},
   "outputs": [
    {
     "name": "stdout",
     "output_type": "stream",
     "text": [
      "1.2075471698113207 \n",
      " ['-', '-', 'about', 'help', 'share', 'open-URL', '-', 'open', 'save', 'close', 'save-as', 'print']\n"
     ]
    }
   ],
   "source": [
    "def optimizer (max_iters, seed_menu, frequencies, associations, params):\n",
    "    bestknown_value = float('inf')\n",
    "    bestknown_design = []\n",
    "    for i in range (0, max_iters):\n",
    "        candidate = random.sample(seed_menu, len(seed_menu))\n",
    "        objective_value = 0.0\n",
    "        params = [candidate, associations, 0.3, 0.4]\n",
    "        for j in range (0, len(menu)):\n",
    "            objective_value += forage(j, frequencies[menu[j]], params) * frequencies[menu[j]]\n",
    "        objective_value /= sum(frequencies.values())\n",
    "        if objective_value < bestknown_value: # minimize\n",
    "            bestknown_value = objective_value\n",
    "            bestknown_design = candidate\n",
    "    return bestknown_value, bestknown_design\n",
    "\n",
    "bestvalue, menu = optimizer (40000, menu, frequencies, associations, params)\n",
    "print (bestvalue, \"\\n\", menu)"
   ]
  },
  {
   "cell_type": "code",
   "execution_count": 16,
   "metadata": {},
   "outputs": [
    {
     "data": {
      "application/vnd.jupyter.widget-view+json": {
       "model_id": "1c545cacd3954e2287d7079f4f45ac0c",
       "version_major": 2,
       "version_minor": 0
      },
      "text/plain": [
       "VBox(children=(Label(value=' '), Label(value=' '), Button(button_style='info', description='about', style=Butt…"
      ]
     },
     "metadata": {},
     "output_type": "display_data"
    },
    {
     "data": {
      "application/vnd.jupyter.widget-view+json": {
       "model_id": "eca841d2f8824179a5768c2af5ea5a05",
       "version_major": 2,
       "version_minor": 0
      },
      "text/plain": [
       "Output()"
      ]
     },
     "metadata": {},
     "output_type": "display_data"
    }
   ],
   "source": [
    "utilities.showmenu(menu)"
   ]
  },
  {
   "cell_type": "code",
   "execution_count": null,
   "metadata": {},
   "outputs": [],
   "source": []
  }
 ],
 "metadata": {
  "kernelspec": {
   "display_name": "Python 3",
   "language": "python",
   "name": "python3"
  },
  "language_info": {
   "codemirror_mode": {
    "name": "ipython",
    "version": 3
   },
   "file_extension": ".py",
   "mimetype": "text/x-python",
   "name": "python",
   "nbconvert_exporter": "python",
   "pygments_lexer": "ipython3",
   "version": "3.8.10"
  }
 },
 "nbformat": 4,
 "nbformat_minor": 2
}
